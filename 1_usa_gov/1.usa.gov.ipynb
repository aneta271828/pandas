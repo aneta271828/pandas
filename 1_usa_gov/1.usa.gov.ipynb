{
 "metadata": {
  "name": ""
 },
 "nbformat": 3,
 "nbformat_minor": 0,
 "worksheets": [
  {
   "cells": [
    {
     "cell_type": "code",
     "collapsed": false,
     "input": [
      "#I assume you are running this in the directory where the usa.gov files are located, uncompressed\n",
      "my_file='usagov_bitly_data.2013-05-17.clean.csv'\n",
      "\n",
      "#the data was cleaned before use: while read a; do \n",
      "#  echo $a |  python -mjson.tool >/dev/null && echo $a >>usagov_bitly_data.2013-05-17.clean.csv; \n",
      "#done < usagov_bitly_data2013-05-17.csv"
     ],
     "language": "python",
     "metadata": {},
     "outputs": [],
     "prompt_number": 1
    },
    {
     "cell_type": "code",
     "collapsed": false,
     "input": [
      "open(my_file).readline()\n",
      "#JSON strings in a file, like a stream"
     ],
     "language": "python",
     "metadata": {},
     "outputs": [
      {
       "metadata": {},
       "output_type": "pyout",
       "prompt_number": 2,
       "text": [
        "'{ \"a\": \"Mozilla/5.0 (iPad; CPU OS 6_1_3 like Mac OS X) AppleWebKit/536.26 (KHTML, like Gecko) Version/6.0 Mobile/10B329 Safari/8536.25\", \"c\": \"US\", \"nk\": 0, \"tz\": \"America/Chicago\", \"gr\": \"WI\", \"g\": \"YmtpnZ\", \"h\": \"YmtpnZ\", \"l\": \"bitly\", \"al\": \"en-us\", \"hh\": \"1.usa.gov\", \"r\": \"http://www.waukesha.k12.wi.us/\", \"u\": \"http://pld.dpi.wi.gov/files/pld/images/LinkWI.png\", \"t\": 1368749945, \"hc\": 1363711958, \"cy\": \"Brookfield\", \"ll\": [ 43.060799, -88.155800 ] }\\n'"
       ]
      }
     ],
     "prompt_number": 2
    },
    {
     "cell_type": "code",
     "collapsed": false,
     "input": [
      "import json\n",
      "\n",
      "#this is the cool way of building an associative array in Python\n",
      "records = [json.loads(line) for line in open(my_file)]\n",
      "\n",
      "#print out the first element\n",
      "records[0]"
     ],
     "language": "python",
     "metadata": {},
     "outputs": [
      {
       "metadata": {},
       "output_type": "pyout",
       "prompt_number": 3,
       "text": [
        "{u'a': u'Mozilla/5.0 (iPad; CPU OS 6_1_3 like Mac OS X) AppleWebKit/536.26 (KHTML, like Gecko) Version/6.0 Mobile/10B329 Safari/8536.25',\n",
        " u'al': u'en-us',\n",
        " u'c': u'US',\n",
        " u'cy': u'Brookfield',\n",
        " u'g': u'YmtpnZ',\n",
        " u'gr': u'WI',\n",
        " u'h': u'YmtpnZ',\n",
        " u'hc': 1363711958,\n",
        " u'hh': u'1.usa.gov',\n",
        " u'l': u'bitly',\n",
        " u'll': [43.060799, -88.1558],\n",
        " u'nk': 0,\n",
        " u'r': u'http://www.waukesha.k12.wi.us/',\n",
        " u't': 1368749945,\n",
        " u'tz': u'America/Chicago',\n",
        " u'u': u'http://pld.dpi.wi.gov/files/pld/images/LinkWI.png'}"
       ]
      }
     ],
     "prompt_number": 3
    },
    {
     "cell_type": "code",
     "collapsed": false,
     "input": [
      "#but what are the fields?\n",
      "#u means unicode, referring to the string encoding\n",
      "\n",
      "'''{\n",
      "        \"a\": USER_AGENT, \n",
      "        \"c\": COUNTRY_CODE, # 2-character iso code\n",
      "        \"nk\": KNOWN_USER,  # 1 or 0. 0=this is the first time we've seen this browser\n",
      "        \"g\": GLOBAL_BITLY_HASH, \n",
      "        \"h\": ENCODING_USER_BITLY_HASH,\n",
      "        \"l\": ENCODING_USER_LOGIN,\n",
      "        \"hh\": SHORT_URL_CNAME,\n",
      "        \"r\": REFERRING_URL,\n",
      "        \"u\": LONG_URL,\n",
      "        \"t\": TIMESTAMP,\n",
      "        \"gr\": GEO_REGION,\n",
      "        \"ll\": [LATITUDE, LONGITUDE],\n",
      "        \"cy\": GEO_CITY_NAME,\n",
      "        \"tz\": TIMEZONE # in http://en.wikipedia.org/wiki/Zoneinfo format\n",
      "        \"hc\": TIMESTAMP OF TIME HASH WAS CREATED, \n",
      "        \"al\": ACCEPT_LANGUAGE http://www.w3.org/Protocols/rfc2616/rfc2616-sec14.html#sec14.4 \n",
      "}'''"
     ],
     "language": "python",
     "metadata": {},
     "outputs": [
      {
       "metadata": {},
       "output_type": "pyout",
       "prompt_number": 4,
       "text": [
        "'{\\n        \"a\": USER_AGENT, \\n        \"c\": COUNTRY_CODE, # 2-character iso code\\n        \"nk\": KNOWN_USER,  # 1 or 0. 0=this is the first time we\\'ve seen this browser\\n        \"g\": GLOBAL_BITLY_HASH, \\n        \"h\": ENCODING_USER_BITLY_HASH,\\n        \"l\": ENCODING_USER_LOGIN,\\n        \"hh\": SHORT_URL_CNAME,\\n        \"r\": REFERRING_URL,\\n        \"u\": LONG_URL,\\n        \"t\": TIMESTAMP,\\n        \"gr\": GEO_REGION,\\n        \"ll\": [LATITUDE, LONGITUDE],\\n        \"cy\": GEO_CITY_NAME,\\n        \"tz\": TIMEZONE # in http://en.wikipedia.org/wiki/Zoneinfo format\\n        \"hc\": TIMESTAMP OF TIME HASH WAS CREATED, \\n        \"al\": ACCEPT_LANGUAGE http://www.w3.org/Protocols/rfc2616/rfc2616-sec14.html#sec14.4 \\n}'"
       ]
      }
     ],
     "prompt_number": 4
    },
    {
     "cell_type": "code",
     "collapsed": false,
     "input": [
      "#you can access individual fields\n",
      "records[0]['gr']"
     ],
     "language": "python",
     "metadata": {},
     "outputs": [
      {
       "metadata": {},
       "output_type": "pyout",
       "prompt_number": 5,
       "text": [
        "u'WI'"
       ]
      }
     ],
     "prompt_number": 5
    },
    {
     "cell_type": "code",
     "collapsed": false,
     "input": [
      "#lets get all the time zones, some of them may be NULL\n",
      "#time_zones = [rec['tz'] for rec in records]\n",
      "#---------------------------------------------------------------------------\n",
      "#KeyError                                  Traceback (most recent call last)\n",
      "#<ipython-input-6-af941cd41228> in <module>()\n",
      "#      1 #lets get all the time zones, some of them may be NULL\n",
      "#----> 2 time_zones = [rec['tz'] for rec in records]\n",
      "#\n",
      "#KeyError: 'tz'\n"
     ],
     "language": "python",
     "metadata": {},
     "outputs": [],
     "prompt_number": 6
    },
    {
     "cell_type": "code",
     "collapsed": false,
     "input": [
      "#lets create the time_zones with removing the null (None) records\n",
      "time_zones = [rec['tz'] for rec in records if 'tz' in rec]\n",
      "#accessing ranges\n",
      "print time_zones[:3]\n",
      "print time_zones[2:5]"
     ],
     "language": "python",
     "metadata": {},
     "outputs": [
      {
       "output_type": "stream",
       "stream": "stdout",
       "text": [
        "[u'America/Chicago', u'', u'America/Vancouver']\n",
        "[u'America/Vancouver', u'America/New_York', u'America/New_York']\n"
       ]
      }
     ],
     "prompt_number": 7
    },
    {
     "cell_type": "code",
     "collapsed": false,
     "input": [
      "#Could we do better?"
     ],
     "language": "python",
     "metadata": {},
     "outputs": [],
     "prompt_number": 8
    },
    {
     "cell_type": "code",
     "collapsed": false,
     "input": [
      "#Lets use DataFrame just like in R :)\n",
      "\n",
      "from pandas import DataFrame, Series\n",
      "import pandas as pd\n",
      "#you remember what records stores? \n",
      "frame = DataFrame(records)"
     ],
     "language": "python",
     "metadata": {},
     "outputs": [],
     "prompt_number": 9
    },
    {
     "cell_type": "code",
     "collapsed": false,
     "input": [
      "frame"
     ],
     "language": "python",
     "metadata": {},
     "outputs": [
      {
       "html": [
        "<pre>\n",
        "&lt;class 'pandas.core.frame.DataFrame'&gt;\n",
        "Int64Index: 151350 entries, 0 to 151349\n",
        "Data columns (total 18 columns):\n",
        "_heartbeat_    2859  non-null values\n",
        "a              148491  non-null values\n",
        "al             118275  non-null values\n",
        "c              127847  non-null values\n",
        "cy             127847  non-null values\n",
        "g              148491  non-null values\n",
        "gr             127847  non-null values\n",
        "h              148491  non-null values\n",
        "hc             148491  non-null values\n",
        "hh             148491  non-null values\n",
        "kw             21796  non-null values\n",
        "l              148491  non-null values\n",
        "ll             127675  non-null values\n",
        "nk             148491  non-null values\n",
        "r              148491  non-null values\n",
        "t              148491  non-null values\n",
        "tz             148491  non-null values\n",
        "u              148491  non-null values\n",
        "dtypes: float64(4), object(14)\n",
        "</pre>"
       ],
       "metadata": {},
       "output_type": "pyout",
       "prompt_number": 10,
       "text": [
        "<class 'pandas.core.frame.DataFrame'>\n",
        "Int64Index: 151350 entries, 0 to 151349\n",
        "Data columns (total 18 columns):\n",
        "_heartbeat_    2859  non-null values\n",
        "a              148491  non-null values\n",
        "al             118275  non-null values\n",
        "c              127847  non-null values\n",
        "cy             127847  non-null values\n",
        "g              148491  non-null values\n",
        "gr             127847  non-null values\n",
        "h              148491  non-null values\n",
        "hc             148491  non-null values\n",
        "hh             148491  non-null values\n",
        "kw             21796  non-null values\n",
        "l              148491  non-null values\n",
        "ll             127675  non-null values\n",
        "nk             148491  non-null values\n",
        "r              148491  non-null values\n",
        "t              148491  non-null values\n",
        "tz             148491  non-null values\n",
        "u              148491  non-null values\n",
        "dtypes: float64(4), object(14)"
       ]
      }
     ],
     "prompt_number": 10
    },
    {
     "cell_type": "code",
     "collapsed": false,
     "input": [
      "#i like ranges\n",
      "frame['tz'][5:10]"
     ],
     "language": "python",
     "metadata": {},
     "outputs": [
      {
       "metadata": {},
       "output_type": "pyout",
       "prompt_number": 11,
       "text": [
        "5    America/Los_Angeles\n",
        "6       America/New_York\n",
        "7       America/New_York\n",
        "8        America/Chicago\n",
        "9       America/New_York\n",
        "Name: tz, dtype: object"
       ]
      }
     ],
     "prompt_number": 11
    },
    {
     "cell_type": "code",
     "collapsed": false,
     "input": [
      "#ranges are the \"limit 10\" if you wish, just like sql\n",
      "#functions can be applied to any subset of the frame\n",
      "#frames also can be multidimensional\n",
      "#this allows you to build a nD (ndarray) models\n",
      "frame['tz'].value_counts()[:10]"
     ],
     "language": "python",
     "metadata": {},
     "outputs": [
      {
       "metadata": {},
       "output_type": "pyout",
       "prompt_number": 12,
       "text": [
        "America/Chicago        46235\n",
        "America/New_York       32832\n",
        "                       20850\n",
        "America/Los_Angeles    13898\n",
        "Europe/London           4551\n",
        "America/Denver          3235\n",
        "America/Rainy_River     1565\n",
        "Asia/Tokyo              1514\n",
        "America/Phoenix         1440\n",
        "Europe/Berlin           1340\n",
        "dtype: int64"
       ]
      }
     ],
     "prompt_number": 12
    },
    {
     "cell_type": "code",
     "collapsed": false,
     "input": [
      "#how about cleaning data\n",
      "clean_tz = frame['tz'].fillna('Missing')\n",
      "clean_tz.value_counts()[:10]"
     ],
     "language": "python",
     "metadata": {},
     "outputs": [
      {
       "metadata": {},
       "output_type": "pyout",
       "prompt_number": 13,
       "text": [
        "America/Chicago        46235\n",
        "America/New_York       32832\n",
        "                       20850\n",
        "America/Los_Angeles    13898\n",
        "Europe/London           4551\n",
        "America/Denver          3235\n",
        "Missing                 2859\n",
        "America/Rainy_River     1565\n",
        "Asia/Tokyo              1514\n",
        "America/Phoenix         1440\n",
        "dtype: int64"
       ]
      }
     ],
     "prompt_number": 13
    },
    {
     "cell_type": "code",
     "collapsed": false,
     "input": [
      "#how about filtering with a predicate, and assign a value to all records where the predicate is true\n",
      "clean_tz[clean_tz == ''] = 'Unknown'\n",
      "clean_tz.value_counts()[:10]"
     ],
     "language": "python",
     "metadata": {},
     "outputs": [
      {
       "metadata": {},
       "output_type": "pyout",
       "prompt_number": 14,
       "text": [
        "America/Chicago        46235\n",
        "America/New_York       32832\n",
        "Unknown                20850\n",
        "America/Los_Angeles    13898\n",
        "Europe/London           4551\n",
        "America/Denver          3235\n",
        "Missing                 2859\n",
        "America/Rainy_River     1565\n",
        "Asia/Tokyo              1514\n",
        "America/Phoenix         1440\n",
        "dtype: int64"
       ]
      }
     ],
     "prompt_number": 14
    },
    {
     "cell_type": "code",
     "collapsed": false,
     "input": [
      "#we should draw something, it is so hip\n",
      "import matplotlib\n",
      "import numpy as np\n",
      "import matplotlib.pyplot as plt\n",
      "%matplotlib inline  \n",
      "clean_tz.value_counts()[:10].plot(kind='barh')"
     ],
     "language": "python",
     "metadata": {},
     "outputs": [
      {
       "metadata": {},
       "output_type": "pyout",
       "prompt_number": 15,
       "text": [
        "<matplotlib.axes.AxesSubplot at 0x123347690>"
       ]
      },
      {
       "metadata": {},
       "output_type": "display_data",
       "png": "[encoded data removed]",
       "text": [
        "<matplotlib.figure.Figure at 0x123347310>"
       ]
      }
     ],
     "prompt_number": 15
    },
    {
     "cell_type": "code",
     "collapsed": false,
     "input": [
      "#lets do os classification\n",
      "operating_systems = np.where(frame['a'].str.contains('Windows'), 'Windows', 'Not Windows')\n",
      "operating_systems[:5]"
     ],
     "language": "python",
     "metadata": {},
     "outputs": [
      {
       "metadata": {},
       "output_type": "pyout",
       "prompt_number": 16,
       "text": [
        "0    Not Windows\n",
        "1    Not Windows\n",
        "2    Not Windows\n",
        "3        Windows\n",
        "4        Windows\n",
        "Name: a, dtype: object"
       ]
      }
     ],
     "prompt_number": 16
    },
    {
     "cell_type": "code",
     "collapsed": false,
     "input": [
      "#we need better filtering, but for now,lets count\n",
      "by_tz_os = frame.groupby(['tz', operating_systems])\n",
      "\n",
      "#DataFrame.groupby(by=None, axis=0, level=None, as_index=True, sort=True, group_keys=True, squeeze=False)\n",
      "#Group series using mapper (dict or key function, apply given function to group, return result as series) or by a series of columns\n",
      "\n",
      "print by_tz_os.size().unstack().fillna(0)[:10]"
     ],
     "language": "python",
     "metadata": {},
     "outputs": [
      {
       "output_type": "stream",
       "stream": "stdout",
       "text": [
        "a                     Not Windows  Windows\n",
        "tz                                        \n",
        "                            12937     7913\n",
        "Africa/Abidjan                  0        2\n",
        "Africa/Accra                    2       10\n",
        "Africa/Algiers                  2       25\n",
        "Africa/Blantyre                 0        1\n",
        "Africa/Cairo                   40       47\n",
        "Africa/Casablanca               4       20\n",
        "Africa/Ceuta                   75       77\n",
        "Africa/Dakar                    0        1\n",
        "Africa/Dar_es_Salaam            4        7\n"
       ]
      }
     ],
     "prompt_number": 17
    },
    {
     "cell_type": "code",
     "collapsed": false,
     "input": [
      "#wait what?\n",
      "print by_tz_os.size()[:5]\n",
      "\n",
      "#Another simple aggregation example is to compute the size of each group. This is included in GroupBy as the size method. \n",
      "#It returns a Series whose index are the group names and whose values are the sizes of each group."
     ],
     "language": "python",
     "metadata": {},
     "outputs": [
      {
       "output_type": "stream",
       "stream": "stdout",
       "text": [
        "tz              a          \n",
        "                Not Windows    12937\n",
        "                Windows         7913\n",
        "Africa/Abidjan  Windows            2\n",
        "Africa/Accra    Not Windows        2\n",
        "                Windows           10\n",
        "dtype: int64\n"
       ]
      }
     ],
     "prompt_number": 18
    },
    {
     "cell_type": "code",
     "collapsed": false,
     "input": [
      "print by_tz_os.size().unstack()[:5]\n",
      "\n",
      "#DataFrame.unstack(level=-1)\n",
      "#Pivot a level of the (necessarily hierarchical) index labels, returning a DataFrame \n",
      "#having a new level of column labels whose inner-most level consists of the pivoted index labels. \n",
      "#If the index is not a MultiIndex, the output will be a Series (the analogue of stack when \n",
      "#the columns are not a MultiIndex)\n"
     ],
     "language": "python",
     "metadata": {},
     "outputs": [
      {
       "output_type": "stream",
       "stream": "stdout",
       "text": [
        "a                Not Windows  Windows\n",
        "tz                                   \n",
        "                       12937     7913\n",
        "Africa/Abidjan           NaN        2\n",
        "Africa/Accra               2       10\n",
        "Africa/Algiers             2       25\n",
        "Africa/Blantyre          NaN        1\n"
       ]
      }
     ],
     "prompt_number": 19
    },
    {
     "cell_type": "code",
     "collapsed": false,
     "input": [
      "#end finally\n",
      "print by_tz_os.size().unstack().fillna(0).sort(['Windows'],ascending=False)[:5]"
     ],
     "language": "python",
     "metadata": {},
     "outputs": [
      {
       "output_type": "stream",
       "stream": "stdout",
       "text": [
        "a                    Not Windows  Windows\n",
        "tz                                       \n",
        "America/Chicago            11057    35178\n",
        "America/New_York           11816    21016\n",
        "America/Los_Angeles         4707     9191\n",
        "                           12937     7913\n",
        "America/Denver               952     2283\n"
       ]
      }
     ],
     "prompt_number": 20
    },
    {
     "cell_type": "code",
     "collapsed": false,
     "input": [
      "#the end"
     ],
     "language": "python",
     "metadata": {},
     "outputs": [],
     "prompt_number": 20
    }
   ],
   "metadata": {}
  }
 ]
}